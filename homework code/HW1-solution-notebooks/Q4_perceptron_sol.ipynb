{
 "cells": [
  {
   "cell_type": "markdown",
   "metadata": {
    "id": "9-rUkkInxNBQ"
   },
   "source": [
    "# HW 1: Perceptron"
   ]
  },
  {
   "cell_type": "markdown",
   "metadata": {
    "id": "MQn2Mv4-xNBT"
   },
   "source": [
    "Note: you can add text written in Markdown to this notebook to explain your work and your conclusions. In local Jupyter, add a new cell by using the \"+\" button on the toolbar), and set it to be a markdown cell (by toggling the \"Code\" dropdown on the toolbar to say \"Markdown\" instead). In Colab, use the +Text button on the toolbar.\n",
    "\n",
    "For examples of how to use Markdown, look at the examples in this notebook, or [this cheatsheet](https://github.com/adam-p/markdown-here/wiki/Markdown-Cheatsheet)."
   ]
  },
  {
   "cell_type": "code",
   "execution_count": 1,
   "metadata": {
    "executionInfo": {
     "elapsed": 349,
     "status": "ok",
     "timestamp": 1630458076032,
     "user": {
      "displayName": "Madeleine Udell",
      "photoUrl": "",
      "userId": "02596981583694187873"
     },
     "user_tz": 240
    },
    "id": "xxYSszGAxNBU"
   },
   "outputs": [],
   "source": [
    "import random\n",
    "import numpy as np\n",
    "from numpy.random import randn\n",
    "import pandas as pd\n",
    "import matplotlib.pyplot as plt \n",
    "%matplotlib inline"
   ]
  },
  {
   "cell_type": "code",
   "execution_count": 2,
   "metadata": {
    "executionInfo": {
     "elapsed": 6,
     "status": "ok",
     "timestamp": 1630458076033,
     "user": {
      "displayName": "Madeleine Udell",
      "photoUrl": "",
      "userId": "02596981583694187873"
     },
     "user_tz": 240
    },
    "id": "QAX0uEcSxNBW"
   },
   "outputs": [],
   "source": [
    "random.seed(3)"
   ]
  },
  {
   "cell_type": "markdown",
   "metadata": {
    "id": "t1tIEEQ8xNBX"
   },
   "source": [
    "## Generate Data"
   ]
  },
  {
   "cell_type": "code",
   "execution_count": 7,
   "metadata": {
    "executionInfo": {
     "elapsed": 298,
     "status": "ok",
     "timestamp": 1630459643652,
     "user": {
      "displayName": "Madeleine Udell",
      "photoUrl": "",
      "userId": "02596981583694187873"
     },
     "user_tz": 240
    },
    "id": "TEDHQpJ2xNBX"
   },
   "outputs": [],
   "source": [
    "n = 50\n",
    "d = 2\n",
    "feature_dict = {'feature 1': randn(n),\n",
    "                'feature 2': randn(n),\n",
    "                'offset':    np.ones(n)}\n",
    "X = pd.DataFrame(data=feature_dict)\n",
    "w_true = pd.Series(randn(d+1), index=X.columns)\n",
    "y = np.sign(X.dot(w_true))"
   ]
  },
  {
   "cell_type": "markdown",
   "metadata": {
    "id": "2jpbz1hTxNBY"
   },
   "source": [
    "## Visualize Data"
   ]
  },
  {
   "cell_type": "code",
   "execution_count": 8,
   "metadata": {
    "executionInfo": {
     "elapsed": 283,
     "status": "ok",
     "timestamp": 1630458356077,
     "user": {
      "displayName": "Madeleine Udell",
      "photoUrl": "",
      "userId": "02596981583694187873"
     },
     "user_tz": 240
    },
    "id": "qgGzcm9ExNBY"
   },
   "outputs": [],
   "source": [
    "def plot_perceptron(X,y,w,plot_classification_boundary=True):\n",
    "    for index, row in X.iterrows():\n",
    "        if y[index] > 0:\n",
    "            plt.scatter(row[0],row[1],color='blue',marker='s',label=\"y=1\")\n",
    "        else: \n",
    "            plt.scatter(row[0],row[1],color='red',marker='o',label=\"y=-1\")\n",
    "\n",
    "    plt.xlim(-2,2)\n",
    "    plt.ylim(-2,2)\n",
    "\n",
    "    if plot_classification_boundary:\n",
    "        x1samples = np.arange(np.min(X['feature 1']),np.max(X['feature 1']),0.1)\n",
    "        plt.plot(x1samples, [-(w[0]*x1 + w[2])/w[1] for x1 in x1samples],color='black',label='classification boundary')\n",
    "    plt.show()"
   ]
  },
  {
   "cell_type": "code",
   "execution_count": 9,
   "metadata": {
    "colab": {
     "base_uri": "https://localhost:8080/",
     "height": 269
    },
    "executionInfo": {
     "elapsed": 609,
     "status": "ok",
     "timestamp": 1630458358171,
     "user": {
      "displayName": "Madeleine Udell",
      "photoUrl": "",
      "userId": "02596981583694187873"
     },
     "user_tz": 240
    },
    "id": "jRQK2p9fxNBa",
    "outputId": "eb17f22c-688f-40bf-c1c2-62512d0cd16c"
   },
   "outputs": [
    {
     "data": {
      "image/png": "[encoded data removed]",
      "text/plain": [
       "<Figure size 432x288 with 1 Axes>"
      ]
     },
     "metadata": {
      "needs_background": "light"
     },
     "output_type": "display_data"
    }
   ],
   "source": [
    "plot_perceptron(X,y,w_true)"
   ]
  },
  {
   "cell_type": "markdown",
   "metadata": {
    "id": "TCMhZO10xNBc"
   },
   "source": [
    "## a) Code the missing parts of the Perceptron algorithm"
   ]
  },
  {
   "cell_type": "markdown",
   "metadata": {
    "id": "Nzv-kcw6xNBd"
   },
   "source": [
    "Inputs to Perceptron are:\n",
    "\n",
    "required arguments: <br>\n",
    "X = data points <br>\n",
    "Y = true values <br>\n",
    "\n",
    "optional arguments: <br>\n",
    "maxchecks = maximum number of data points to look out, which may or may not violate the perceptron condition (default: 1000) <br>\n",
    "maxiters = maximum number of updates to w (default: 100) <br>\n",
    "w_0 = initial guess of w (default: random) <br>\n",
    "\n",
    "Perceptron should start with the input guess of w, look at most maxiters data points and make at most maxsteps updates, and return the final w."
   ]
  },
  {
   "cell_type": "code",
   "execution_count": 7,
   "metadata": {
    "executionInfo": {
     "elapsed": 266,
     "status": "ok",
     "timestamp": 1630458397609,
     "user": {
      "displayName": "Madeleine Udell",
      "photoUrl": "",
      "userId": "02596981583694187873"
     },
     "user_tz": 240
    },
    "id": "iTu_NIVtxNBe"
   },
   "outputs": [],
   "source": [
    "### STUDENT\n",
    "# Python does not allow the argument of a function to depend on another argument, \n",
    "# so we bypass the issue by setting w = None and assigning it immediately in the function\n",
    "def perceptron(X=X,y=y,w_0=None,maxchecks=1000,maxiters=100): \n",
    "    if w_0 is None:\n",
    "        w_0=randn(X.shape[1])\n",
    "    ### ENTER YOUR CODE HERE\n",
    "    \n",
    "    return w"
   ]
  },
  {
   "cell_type": "code",
   "execution_count": 10,
   "metadata": {
    "executionInfo": {
     "elapsed": 8,
     "status": "ok",
     "timestamp": 1630458715728,
     "user": {
      "displayName": "Madeleine Udell",
      "photoUrl": "",
      "userId": "02596981583694187873"
     },
     "user_tz": 240
    },
    "id": "Af4f8oljxNBm"
   },
   "outputs": [],
   "source": [
    "### SOLUTION\n",
    "def perceptron(X=X,y=y,w_0=None,maxchecks=1000,maxiters=100,plot_progress=False):\n",
    "    if w_0 is None:\n",
    "        w_0 = randn(X.shape[1])\n",
    "    w = [x for x in w_0] # Make a copy of the intialized weight, since the weight vector is mutable\n",
    "    n = len(y)\n",
    "    step = 0\n",
    "    laststep = 0\n",
    "    for i in range(0,maxchecks):\n",
    "            if np.dot(y[i%n] * X.iloc[i%n], w) < 0: # Loop over the data points until we find one that violates perceptron condition\n",
    "                step += 1\n",
    "                laststep = i\n",
    "                w += y[i%n] * X.iloc[i%n]\n",
    "                if plot_progress and step%5==0:\n",
    "                    plot_perceptron(X,y,w)\n",
    "            if i - laststep > n or step > maxiters: # No more violations or number of steps exceed maxiters limit\n",
    "                if plot_progress:\n",
    "                    plot_perceptron(X,y,w)\n",
    "                break\n",
    "    return w"
   ]
  },
  {
   "cell_type": "code",
   "execution_count": 9,
   "metadata": {},
   "outputs": [
    {
     "data": {
      "text/plain": [
       "feature 1    0.030290\n",
       "feature 2   -0.695319\n",
       "offset       0.542816\n",
       "dtype: float64"
      ]
     },
     "execution_count": 9,
     "metadata": {},
     "output_type": "execute_result"
    }
   ],
   "source": [
    "w_true"
   ]
  },
  {
   "cell_type": "code",
   "execution_count": 13,
   "metadata": {},
   "outputs": [
    {
     "data": {
      "text/plain": [
       "feature 1   -0.061186\n",
       "feature 2   -2.512734\n",
       "offset       2.202150\n",
       "Name: 0, dtype: float64"
      ]
     },
     "execution_count": 13,
     "metadata": {},
     "output_type": "execute_result"
    }
   ],
   "source": [
    "perceptron(X,y)"
   ]
  },
  {
   "cell_type": "code",
   "execution_count": 15,
   "metadata": {
    "executionInfo": {
     "elapsed": 283,
     "status": "ok",
     "timestamp": 1630458403050,
     "user": {
      "displayName": "Madeleine Udell",
      "photoUrl": "",
      "userId": "02596981583694187873"
     },
     "user_tz": 240
    },
    "id": "ZLMh22-lxNBe"
   },
   "outputs": [],
   "source": [
    "### Alternative solution to coding perceptron learning algorithm; does not use maxchecks argument\n",
    "def perceptron_alt(X=X,y=y,w_0=None,maxiters=100,plot_progress=False):\n",
    "    if w_0 is None:\n",
    "        w_0 = randn(X.shape[1])\n",
    "    w = [x for x in w_0] # Make a copy of the intialized weight, since the weight vector is mutable\n",
    "    n = len(y)\n",
    "    steps = 0\n",
    "    i = 0\n",
    "    while steps < maxiters: # Run while number of steps does not exceed limit set by maxiters\n",
    "        if np.dot(y[i] * X.iloc[i], w) < 0: # Loop over the data points until we find one that violates perceptron condition\n",
    "                w += y[i] * X.iloc[i]\n",
    "                steps += 1\n",
    "                i = 0\n",
    "                if plot_progress and step%5==0:\n",
    "                    plot_perceptron(X,y,w)\n",
    "        else: \n",
    "            i += 1\n",
    "        if i == n: # If no point is violated, break the for loop early\n",
    "            break \n",
    "    return w"
   ]
  },
  {
   "cell_type": "markdown",
   "metadata": {
    "id": "vqa5BtQrxNBe"
   },
   "source": [
    "## b) Run perceptron on the above linearly separable data set"
   ]
  },
  {
   "cell_type": "code",
   "execution_count": 16,
   "metadata": {
    "colab": {
     "base_uri": "https://localhost:8080/",
     "height": 1000
    },
    "executionInfo": {
     "elapsed": 33758,
     "status": "ok",
     "timestamp": 1630458454770,
     "user": {
      "displayName": "Madeleine Udell",
      "photoUrl": "",
      "userId": "02596981583694187873"
     },
     "user_tz": 240
    },
    "id": "MkNHZnKexNBf",
    "outputId": "e68578d1-4b01-4d98-9171-3b61f6694254"
   },
   "outputs": [
    {
     "data": {
      "image/png": "[encoded data removed]",
      "text/plain": [
       "<Figure size 432x288 with 1 Axes>"
      ]
     },
     "metadata": {},
     "output_type": "display_data"
    },
    {
     "data": {
      "image/png": "[encoded data removed]",
      "text/plain": [
       "<Figure size 432x288 with 1 Axes>"
      ]
     },
     "metadata": {},
     "output_type": "display_data"
    }
   ],
   "source": [
    "w = perceptron(X,y,plot_progress=True)"
   ]
  },
  {
   "cell_type": "markdown",
   "metadata": {
    "id": "8T_LtUyQxNBf"
   },
   "source": [
    "## c) Run perceptron on data sets of size n = 20, 100, and 1000"
   ]
  },
  {
   "cell_type": "code",
   "execution_count": 11,
   "metadata": {
    "executionInfo": {
     "elapsed": 545,
     "status": "ok",
     "timestamp": 1630458604543,
     "user": {
      "displayName": "Madeleine Udell",
      "photoUrl": "",
      "userId": "02596981583694187873"
     },
     "user_tz": 240
    },
    "id": "hkD_3yoAxNBf"
   },
   "outputs": [],
   "source": [
    "def generate_data(n=50,d=2):\n",
    "    feature_dict = {}\n",
    "    for i in range(d):\n",
    "        feature_dict['feature ' + str(i+1)] = randn(n)\n",
    "    feature_dict['offset'] = np.ones(n)\n",
    "    X = pd.DataFrame(data=feature_dict)\n",
    "    w_true = pd.Series(randn(d+1), index=X.columns)\n",
    "    y = np.sign(X.dot(w_true))\n",
    "    return X,y,w_true"
   ]
  },
  {
   "cell_type": "code",
   "execution_count": 18,
   "metadata": {
    "executionInfo": {
     "elapsed": 6,
     "status": "ok",
     "timestamp": 1630458604545,
     "user": {
      "displayName": "Madeleine Udell",
      "photoUrl": "",
      "userId": "02596981583694187873"
     },
     "user_tz": 240
    },
    "id": "DjWeUOSaxNBg"
   },
   "outputs": [],
   "source": [
    "# Generate data sets of size n=20,100,1000 with dimension 2\n",
    "X_20,y_20,w_20_true = generate_data(n=20,d=2)\n",
    "X_100,y_100,w_100_true = generate_data(n=100,d=2)\n",
    "X_1000,y_1000,w_1000_true = generate_data(n=1000,d=2)"
   ]
  },
  {
   "cell_type": "code",
   "execution_count": 19,
   "metadata": {
    "executionInfo": {
     "elapsed": 599,
     "status": "ok",
     "timestamp": 1630458605699,
     "user": {
      "displayName": "Madeleine Udell",
      "photoUrl": "",
      "userId": "02596981583694187873"
     },
     "user_tz": 240
    },
    "id": "vcNCN-HIxNBg"
   },
   "outputs": [],
   "source": [
    "# Run perceptron on above data sets\n",
    "w_20 = perceptron(X_20,y_20)\n",
    "w_100 = perceptron(X_100,y_100)\n",
    "w_1000 = perceptron(X_1000,y_1000)"
   ]
  },
  {
   "cell_type": "markdown",
   "metadata": {
    "id": "OXtQjVtixNBg"
   },
   "source": [
    "## d) Run perceptron on data set of size n=1000 with dimension d=10"
   ]
  },
  {
   "cell_type": "code",
   "execution_count": 12,
   "metadata": {
    "executionInfo": {
     "elapsed": 7,
     "status": "ok",
     "timestamp": 1630458605700,
     "user": {
      "displayName": "Madeleine Udell",
      "photoUrl": "",
      "userId": "02596981583694187873"
     },
     "user_tz": 240
    },
    "id": "whtvKmImxNBh"
   },
   "outputs": [],
   "source": [
    "X_large,y_large,w_large_true = generate_data(n=1000,d=10)"
   ]
  },
  {
   "cell_type": "code",
   "execution_count": 13,
   "metadata": {
    "executionInfo": {
     "elapsed": 1454,
     "status": "ok",
     "timestamp": 1630458608023,
     "user": {
      "displayName": "Madeleine Udell",
      "photoUrl": "",
      "userId": "02596981583694187873"
     },
     "user_tz": 240
    },
    "id": "fkJFh34JxNBh"
   },
   "outputs": [],
   "source": [
    "w_large = perceptron(X_large, y_large)"
   ]
  },
  {
   "cell_type": "markdown",
   "metadata": {
    "id": "9uhhQg9dxNBi"
   },
   "source": [
    "## e) Run perceptron on dataset from (d) 100 times"
   ]
  },
  {
   "cell_type": "markdown",
   "metadata": {
    "id": "JZK51plcxNBi"
   },
   "source": [
    "Plot a histogram for the number of updates that the algorithm takes to converge.\n",
    "By convergence, we mean the distance between the normalized weight vectors is smaller than some small $\\epsilon>0$. For purposes of this problem, choose $\\epsilon = 0.1$.\n",
    "\n",
    "For this portion, make sure your perceptron implementation picks the next consideration point randomly instead of deterministically."
   ]
  },
  {
   "cell_type": "code",
   "execution_count": 22,
   "metadata": {
    "executionInfo": {
     "elapsed": 405,
     "status": "ok",
     "timestamp": 1630458609817,
     "user": {
      "displayName": "Madeleine Udell",
      "photoUrl": "",
      "userId": "02596981583694187873"
     },
     "user_tz": 240
    },
    "id": "DgvvO0hwxNBi"
   },
   "outputs": [],
   "source": [
    "### STUDENT\n",
    "# Create a helper function that computes the euclidean distance between normalized versions of vectors x,y\n",
    "def distance(x,y):\n",
    "    ### ENTER YOUR CODE HERE\n",
    "    return "
   ]
  },
  {
   "cell_type": "code",
   "execution_count": 23,
   "metadata": {
    "executionInfo": {
     "elapsed": 3,
     "status": "ok",
     "timestamp": 1630458610321,
     "user": {
      "displayName": "Madeleine Udell",
      "photoUrl": "",
      "userId": "02596981583694187873"
     },
     "user_tz": 240
    },
    "id": "RDpG1PX8xNBj"
   },
   "outputs": [],
   "source": [
    "### STUDENT \n",
    "def perceptron_e(X=X,y=y,w_0=None,epsilon=0.1,w_true=w_true):\n",
    "    if w_0 is None:\n",
    "        w_0 = randn(X.shape[1])\n",
    "    ### ENTER YOUR CODE HERE\n",
    "    return w, steps"
   ]
  },
  {
   "cell_type": "code",
   "execution_count": 14,
   "metadata": {
    "executionInfo": {
     "elapsed": 3,
     "status": "ok",
     "timestamp": 1630458613037,
     "user": {
      "displayName": "Madeleine Udell",
      "photoUrl": "",
      "userId": "02596981583694187873"
     },
     "user_tz": 240
    },
    "id": "wCyoWoHVxNBj"
   },
   "outputs": [],
   "source": [
    "### SOLUTION\n",
    "def distance(x,y): # Distance between normalized versions of vectors x,y\n",
    "    normalized_x = x / np.sqrt(np.sum(x**2))\n",
    "    normalized_y = y / np.sqrt(np.sum(y**2))\n",
    "    return np.sqrt(np.sum((normalized_x-normalized_y)**2))"
   ]
  },
  {
   "cell_type": "code",
   "execution_count": 15,
   "metadata": {
    "executionInfo": {
     "elapsed": 316,
     "status": "ok",
     "timestamp": 1630458617763,
     "user": {
      "displayName": "Madeleine Udell",
      "photoUrl": "",
      "userId": "02596981583694187873"
     },
     "user_tz": 240
    },
    "id": "fqRFlDyYxNBj"
   },
   "outputs": [],
   "source": [
    "### SOLUTION\n",
    "def perceptron_e(X=X,y=y,w_0=None,epsilon=0.1,w_true=w_true):\n",
    "    if w_0 is None:\n",
    "        w_0 = randn(X.shape[1])\n",
    "    w = [x for x in w_0]\n",
    "    n = len(y)\n",
    "    error = 1\n",
    "    steps = 0\n",
    "    while error > epsilon: # Run until convergence\n",
    "        i = np.random.randint(0,n) # Choose next point randomly instead of deterministically\n",
    "        if np.dot(y[i] * X.iloc[i], w) < 0: # Loop over the data points until we find one that violates perceptron condition\n",
    "                w += y[i] * X.iloc[i]\n",
    "                steps += 1\n",
    "                error = distance(w,w_true)\n",
    "    return w, steps"
   ]
  },
  {
   "cell_type": "code",
   "execution_count": 16,
   "metadata": {
    "executionInfo": {
     "elapsed": 90410,
     "status": "ok",
     "timestamp": 1630458714482,
     "user": {
      "displayName": "Madeleine Udell",
      "photoUrl": "",
      "userId": "02596981583694187873"
     },
     "user_tz": 240
    },
    "id": "JgXbxDuzxNBj"
   },
   "outputs": [
    {
     "name": "stdout",
     "output_type": "stream",
     "text": [
      "Working on iteration 0\n",
      "Working on iteration 5\n",
      "Working on iteration 10\n",
      "Working on iteration 15\n",
      "Working on iteration 20\n",
      "Working on iteration 25\n",
      "Working on iteration 30\n",
      "Working on iteration 35\n",
      "Working on iteration 40\n",
      "Working on iteration 45\n",
      "Working on iteration 50\n",
      "Working on iteration 55\n",
      "Working on iteration 60\n",
      "Working on iteration 65\n",
      "Working on iteration 70\n",
      "Working on iteration 75\n",
      "Working on iteration 80\n",
      "Working on iteration 85\n",
      "Working on iteration 90\n",
      "Working on iteration 95\n"
     ]
    }
   ],
   "source": [
    "all_steps = []\n",
    "for i in range(0,100):\n",
    "    if i%5==0:\n",
    "        print('Working on iteration ' + str(i))\n",
    "    w,steps = perceptron_e(X=X_large,y=y_large,w_true=w_large_true)\n",
    "    all_steps.append(steps)"
   ]
  },
  {
   "cell_type": "code",
   "execution_count": 22,
   "metadata": {
    "colab": {
     "base_uri": "https://localhost:8080/",
     "height": 295
    },
    "executionInfo": {
     "elapsed": 13,
     "status": "ok",
     "timestamp": 1630458714488,
     "user": {
      "displayName": "Madeleine Udell",
      "photoUrl": "",
      "userId": "02596981583694187873"
     },
     "user_tz": 240
    },
    "id": "pnXAo9nNxNBj",
    "outputId": "4bc5a7bd-8014-461d-9d89-f4922b25a305"
   },
   "outputs": [
    {
     "data": {
      "image/png": "[encoded data removed]",
      "text/plain": [
       "<Figure size 432x288 with 1 Axes>"
      ]
     },
     "metadata": {},
     "output_type": "display_data"
    }
   ],
   "source": [
    "plt.title(\"Histogram of steps until convergence for n=1000, d=10\")\n",
    "plt.xlabel(\"Steps\")\n",
    "plt.ylabel(\"Count\")\n",
    "plt.hist(all_steps)\n",
    "plt.show()"
   ]
  },
  {
   "cell_type": "markdown",
   "metadata": {},
   "source": [
    "## f) Summarize your conclusions with respect to accuracy and running time as a function of n (size of data set) and d (dimension).¶\n",
    "\n",
    "For this part, assume the data is not linearly separable and given a 1-2 sentence qualitative response for all 4 cases (accuracy/running time vs $n$/$d$). (If your perceptron always converges, then the accuracy will be perfect; if you stop before convergence, eg because it's taking too long to run, your accuracy will be less than perfect.)\n",
    "\n",
    "**RESPONSE:** (i) accuracy decreases as the size of the data set increases (in the sense that the algorithm has more trouble honing down the most optimal classificaiton boundary)\n",
    "\n",
    "(ii) accuracy decreases as the dimension of the data set increases (in the sense that the algorithm needs to search more dimensions in hope of finding a linearly separable classifier)\n",
    "\n",
    "(iii) running time increases as the size of the data set increases\n",
    "\n",
    "(iv) running time increases as the dimension of the data set increases\n"
   ]
  },
  {
   "cell_type": "markdown",
   "metadata": {
    "id": "wk9hXF66xNBj"
   },
   "source": [
    "## g) Run the perceptron from part (a) on the dataset with an outlier given below. What happens?"
   ]
  },
  {
   "cell_type": "code",
   "execution_count": 26,
   "metadata": {
    "executionInfo": {
     "elapsed": 11,
     "status": "ok",
     "timestamp": 1630458714490,
     "user": {
      "displayName": "Madeleine Udell",
      "photoUrl": "",
      "userId": "02596981583694187873"
     },
     "user_tz": 240
    },
    "id": "2pDQIFdtxNBk"
   },
   "outputs": [],
   "source": [
    "# (re)generate data with same random seed, adding one outlier\n",
    "random.seed(3)\n",
    "X,y,w = generate_data(n=50, d=2)\n",
    "y[0] = -y[0]"
   ]
  },
  {
   "cell_type": "code",
   "execution_count": 27,
   "metadata": {
    "colab": {
     "base_uri": "https://localhost:8080/"
    },
    "executionInfo": {
     "elapsed": 305,
     "status": "ok",
     "timestamp": 1630458714786,
     "user": {
      "displayName": "Madeleine Udell",
      "photoUrl": "",
      "userId": "02596981583694187873"
     },
     "user_tz": 240
    },
    "id": "MMgbUsWKxNBk",
    "outputId": "42af7e74-b7aa-4b5d-e9bf-55b2561f6402"
   },
   "outputs": [
    {
     "data": {
      "text/plain": [
       "0.205373796195298"
      ]
     },
     "execution_count": 27,
     "metadata": {},
     "output_type": "execute_result"
    }
   ],
   "source": [
    "w_init = randn(d+1)\n",
    "distance(w,perceptron(X,y,w_init))"
   ]
  },
  {
   "cell_type": "markdown",
   "metadata": {
    "id": "DAXEypC-xNBk"
   },
   "source": [
    "**ANSWER**: The weight vector computed by perceptron does not converge to the true weight vector since the data is no longer linearly separable."
   ]
  },
  {
   "cell_type": "markdown",
   "metadata": {
    "id": "uElBNDnOxNBl"
   },
   "source": [
    "## h) Try out one idea to fix perceptron"
   ]
  },
  {
   "cell_type": "code",
   "execution_count": 28,
   "metadata": {},
   "outputs": [],
   "source": [
    "### SOLUTION\n",
    "# Consider the 'pocket' algorithm which keeps the best weight vector of the perceptron learning algorithm\n",
    "# This algorithm is much slower due to having to having to compute the in-error rate at each update step\n",
    "# See pg. 80 in 'Learning From Data' by Abu-Mostafa et al.\n",
    "def pocket(X=X,y=y,w_0=None,maxchecks=1000,maxiters=100,plot_progress=False):\n",
    "    if w_0 is None:\n",
    "        w_0 = randn(X.shape[1])\n",
    "    w = [x for x in w_0]\n",
    "    n = len(y)\n",
    "    error_best = n\n",
    "    w_best = w\n",
    "    step = 0\n",
    "    laststep = 0\n",
    "    \n",
    "    for i in range(0,maxchecks):\n",
    "            if np.dot(y[i%n] * X.iloc[i%n], w) < 0: # Loop over the data points until we find one that violates perceptron condition\n",
    "                w += y[i%n] * X.iloc[i%n]\n",
    "                \n",
    "                error = 0 # Compute error of using updated weight vector w\n",
    "                for index, row in X.iterrows(): \n",
    "                    if np.sign(np.dot(row,w)) != y[index]:  \n",
    "                        error += 1 \n",
    "                        \n",
    "                if error < error_best:\n",
    "                    error_best = error\n",
    "                    w_best = w\n",
    "                    \n",
    "                step += 1\n",
    "                laststep = i\n",
    "                \n",
    "                if plot_progress and step%5==0:\n",
    "                    plot_perceptron(X,y,w)\n",
    "                    \n",
    "            if i - laststep > n or step > maxiters: # No more violations or number of steps exceed maxstep limit\n",
    "                if plot_progress:\n",
    "                    plot_perceptron(X,y,w)\n",
    "                break\n",
    "    return w"
   ]
  },
  {
   "cell_type": "code",
   "execution_count": 29,
   "metadata": {
    "colab": {
     "base_uri": "https://localhost:8080/"
    },
    "executionInfo": {
     "elapsed": 947,
     "status": "ok",
     "timestamp": 1630458715727,
     "user": {
      "displayName": "Madeleine Udell",
      "photoUrl": "",
      "userId": "02596981583694187873"
     },
     "user_tz": 240
    },
    "id": "YI6LxNmnxNBl",
    "outputId": "e18540b2-c0c0-4539-c707-c6e3ce8c4828"
   },
   "outputs": [
    {
     "data": {
      "text/plain": [
       "0.205373796195298"
      ]
     },
     "execution_count": 29,
     "metadata": {},
     "output_type": "execute_result"
    }
   ],
   "source": [
    "distance(w,pocket(X,y,w_init))\n",
    "# Should be no greater than distance from part (f) since we intialized with the same weight vector, and we are looping sequentially through the dataset (no randomness in selection)\n",
    "# Likely to be the same if the number of iters / steps is not sufficiently large."
   ]
  },
  {
   "cell_type": "code",
   "execution_count": null,
   "metadata": {},
   "outputs": [],
   "source": []
  }
 ],
 "metadata": {
  "colab": {
   "collapsed_sections": [],
   "name": "HW1_FA21_INSTRUCTOR.ipynb",
   "provenance": []
  },
  "kernelspec": {
   "display_name": "Python 3",
   "language": "python",
   "name": "python3"
  },
  "language_info": {
   "codemirror_mode": {
    "name": "ipython",
    "version": 3
   },
   "file_extension": ".py",
   "mimetype": "text/x-python",
   "name": "python",
   "nbconvert_exporter": "python",
   "pygments_lexer": "ipython3",
   "version": "3.8.8"
  }
 },
 "nbformat": 4,
 "nbformat_minor": 1
}
